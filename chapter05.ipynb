{
 "cells": [
  {
   "cell_type": "markdown",
   "metadata": {},
   "source": [
    "# 保存到txt"
   ]
  },
  {
   "cell_type": "code",
   "execution_count": 77,
   "metadata": {},
   "outputs": [],
   "source": [
    "import requests\n",
    "from pyquery import PyQuery as pq\n",
    "\n",
    "url = 'https://www.zhihu.com/explore'\n",
    "headers = {\n",
    "     'User-Agent' : 'Mozilla/5.0 (Macintosh; Intel Mac OS X 10_13) AppleWebKit/537.36 (KHTML, like Gecko)\\\n",
    "            Chrome/65.0.3325.163 Safari/537.36'\n",
    "}\n",
    "\n",
    "html = requests.get(url, headers = headers).text\n",
    "doc = pq(html)\n",
    "items = doc('.explore-tab .feed-item').items()\n",
    "for item in items:\n",
    "    question = item.find('h2').text()\n",
    "    author = item.find('.author-link').text()\n",
    "    answer = pq(item.find('.content').html()).text().replace('\\n','')\n",
    "    file = open('explore.txt', 'w', encoding='utf-8')\n",
    "    file.write('\\n'.join([question, author, answer]))\n",
    "    file.write('\\n' + '=' * 50 + '\\n')\n",
    "    file.close()"
   ]
  },
  {
   "cell_type": "code",
   "execution_count": null,
   "metadata": {},
   "outputs": [],
   "source": []
  },
  {
   "cell_type": "markdown",
   "metadata": {},
   "source": [
    "# JSON文件存储"
   ]
  },
  {
   "cell_type": "code",
   "execution_count": 2,
   "metadata": {},
   "outputs": [
    {
     "name": "stdout",
     "output_type": "stream",
     "text": [
      "<class 'str'>\n",
      "[{'name': 'Bob', 'gender': 'male', 'birthday': '1992-10-18'}, {'name': 'Aob', 'gender': 'female', 'birthday': '1998-10-18'}]\n",
      "<class 'list'>\n"
     ]
    }
   ],
   "source": [
    "import json\n",
    "str1 = '''\n",
    "[{\n",
    "    \"name\" : \"Bob\",\n",
    "    \"gender\" : \"male\",\n",
    "    \"birthday\" : \"1992-10-18\"\n",
    "},\n",
    "{\n",
    "    \"name\" : \"Aob\",\n",
    "    \"gender\" : \"female\",\n",
    "    \"birthday\" : \"1998-10-18\"\n",
    "}]'''\n",
    "\n",
    "print(type(str1))\n",
    "data = json.loads(str1)\n",
    "print(data)\n",
    "print(type(data))"
   ]
  },
  {
   "cell_type": "code",
   "execution_count": 3,
   "metadata": {},
   "outputs": [
    {
     "name": "stdout",
     "output_type": "stream",
     "text": [
      "Bob\n",
      "25\n"
     ]
    }
   ],
   "source": [
    "print(data[0]['name'])\n",
    "print(data[0].get('a',25))"
   ]
  },
  {
   "cell_type": "code",
   "execution_count": 34,
   "metadata": {},
   "outputs": [
    {
     "name": "stdout",
     "output_type": "stream",
     "text": [
      "[\n",
      " {\n",
      "  \"name\": \"\\u738b\\u4f1f\",\n",
      "  \"gender\": \"male\",\n",
      "  \"birthday\": \"1992-10-18\"\n",
      " },\n",
      " {\n",
      "  \"name\": \"Aob\",\n",
      "  \"gender\": \"female\",\n",
      "  \"birthday\": \"1998-10-18\"\n",
      " }\n",
      "]\n"
     ]
    }
   ],
   "source": [
    "import json\n",
    "data = [{\n",
    "    \"name\" : \"王伟\",\n",
    "    \"gender\" : \"male\",\n",
    "    \"birthday\" : \"1992-10-18\"\n",
    "},\n",
    "{\n",
    "    \"name\" : \"Aob\",\n",
    "    \"gender\" : \"female\",\n",
    "    \"birthday\" : \"1998-10-18\"\n",
    "}]\n",
    "\n",
    "with open('data.json', 'w') as file:\n",
    "    file.write(json.dumps(data, indent = 1, ensure_ascii = False))\n",
    "\n",
    "js = json.dumps(data,indent = 1)\n",
    "print(js)"
   ]
  },
  {
   "cell_type": "code",
   "execution_count": 35,
   "metadata": {},
   "outputs": [
    {
     "name": "stdout",
     "output_type": "stream",
     "text": [
      "['[\\n', ' {\\n', '  \"name\": \"王伟\",\\n', '  \"gender\": \"male\",\\n', '  \"birthday\": \"1992-10-18\"\\n', ' },\\n', ' {\\n', '  \"name\": \"Aob\",\\n', '  \"gender\": \"female\",\\n', '  \"birthday\": \"1998-10-18\"\\n', ' }\\n', ']']\n"
     ]
    }
   ],
   "source": [
    "with open('data.json', 'r', encoding='utf-8') as file:\n",
    "    print(file.readlines())"
   ]
  },
  {
   "cell_type": "code",
   "execution_count": null,
   "metadata": {},
   "outputs": [],
   "source": []
  },
  {
   "cell_type": "markdown",
   "metadata": {
    "toc-hr-collapsed": false
   },
   "source": [
    "# CSV文件存储"
   ]
  },
  {
   "cell_type": "markdown",
   "metadata": {},
   "source": [
    "## 写入"
   ]
  },
  {
   "cell_type": "code",
   "execution_count": 41,
   "metadata": {},
   "outputs": [
    {
     "name": "stdout",
     "output_type": "stream",
     "text": [
      "id, name,age\n",
      "10001,Mike,20\n",
      "10002,Bob,22\n",
      "10003,Jordan,21\n"
     ]
    }
   ],
   "source": [
    "import csv\n",
    "with open('data.csv', 'w') as csvfile:\n",
    "    writer = csv.writer(csvfile)\n",
    "    writer.writerow(['id',' name', 'age'])\n",
    "    writer.writerow(['10001', 'Mike', 20])\n",
    "    writer.writerow(['10002', 'Bob', 22])\n",
    "    writer.writerow(['10003', 'Jordan', 21])\n",
    "\n",
    "\n",
    "!cat data.csv"
   ]
  },
  {
   "cell_type": "code",
   "execution_count": 43,
   "metadata": {},
   "outputs": [
    {
     "name": "stdout",
     "output_type": "stream",
     "text": [
      "10001 Mike 20\n",
      "10002 Bob 22\n",
      "10003 Jordan 21\n"
     ]
    }
   ],
   "source": [
    "import csv\n",
    "with open('data.csv', 'w') as csvfile:\n",
    "    writer = csv.writer(csvfile, delimiter = ' ')\n",
    "    writer.writerow(['10001', 'Mike', 20])\n",
    "    writer.writerow(['10002', 'Bob', 22])\n",
    "    writer.writerow(['10003', 'Jordan', 21])\n",
    "\n",
    "!cat data.csv"
   ]
  },
  {
   "cell_type": "code",
   "execution_count": 47,
   "metadata": {},
   "outputs": [
    {
     "name": "stdout",
     "output_type": "stream",
     "text": [
      "id, name,age\n",
      "10001,Mike,20\n",
      "10002,Bob,22\n",
      "10003,Jordan,21\n"
     ]
    }
   ],
   "source": [
    "import csv\n",
    "with open('data.csv', 'w') as csvfile:\n",
    "    writer = csv.writer(csvfile)\n",
    "    writer = csv.writer(csvfile)\n",
    "    writer.writerow(['id',' name', 'age'])\n",
    "    writer.writerows([['10001', 'Mike', 20], ['10002', 'Bob', 22],['10003', 'Jordan', 21]])\n",
    "\n",
    "!cat data.csv\n"
   ]
  },
  {
   "cell_type": "code",
   "execution_count": null,
   "metadata": {},
   "outputs": [],
   "source": []
  },
  {
   "cell_type": "code",
   "execution_count": 72,
   "metadata": {},
   "outputs": [
    {
     "name": "stdout",
     "output_type": "stream",
     "text": [
      "id,name,age\n",
      "10001,Mike,20\n",
      "10002,Bob,22\n",
      "10003,Jordan,21\n"
     ]
    }
   ],
   "source": [
    "import csv\n",
    "\n",
    "with open('data.csv', 'w') as csvfile:\n",
    "    fieldnames = ['id', 'name', 'age']\n",
    "    writer = csv.DictWriter(csvfile, fieldnames = fieldnames)\n",
    "    writer.writeheader()\n",
    "    writer.writerow({'id' : '10001', 'name' : 'Mike', 'age' : 20})\n",
    "    writer.writerow({'id' : '10002', 'name' : 'Bob', 'age' : 22})\n",
    "    writer.writerow({'id' : '10003', 'name' : 'Jordan', 'age' : 21})\n",
    "\n",
    "\n",
    "    \n",
    "!cat data.csv"
   ]
  },
  {
   "cell_type": "code",
   "execution_count": 73,
   "metadata": {},
   "outputs": [
    {
     "name": "stdout",
     "output_type": "stream",
     "text": [
      "id,name,age\n",
      "10001,Mike,20\n",
      "10002,Bob,22\n",
      "10003,Jordan,21\n",
      "10004,王伟,25\n"
     ]
    }
   ],
   "source": [
    "import csv\n",
    "\n",
    "with open('data.csv', 'a', encoding='utf-8') as csvfile:\n",
    "    fieldnames = ['id', 'name', 'age']\n",
    "    writer = csv.DictWriter(csvfile, fieldnames = fieldnames)\n",
    "    writer.writerow({'id' : '10004', 'name' : '王伟', 'age' : 25})\n",
    "\n",
    "\n",
    "    \n",
    "!cat data.csv"
   ]
  },
  {
   "cell_type": "code",
   "execution_count": null,
   "metadata": {},
   "outputs": [],
   "source": []
  },
  {
   "cell_type": "markdown",
   "metadata": {},
   "source": [
    "### 读取"
   ]
  },
  {
   "cell_type": "code",
   "execution_count": 74,
   "metadata": {},
   "outputs": [
    {
     "name": "stdout",
     "output_type": "stream",
     "text": [
      "['id', 'name', 'age']\n",
      "['10001', 'Mike', '20']\n",
      "['10002', 'Bob', '22']\n",
      "['10003', 'Jordan', '21']\n",
      "['10004', '王伟', '25']\n"
     ]
    }
   ],
   "source": [
    "import csv\n",
    "\n",
    "with open('data.csv', 'r', encoding = 'utf-8') as csvfile:\n",
    "    reader = csv.reader(csvfile)\n",
    "    for row in reader:\n",
    "        print(row)"
   ]
  },
  {
   "cell_type": "code",
   "execution_count": null,
   "metadata": {},
   "outputs": [],
   "source": []
  }
 ],
 "metadata": {
  "kernelspec": {
   "display_name": "Python [conda env:root] *",
   "language": "python",
   "name": "conda-root-py"
  },
  "language_info": {
   "codemirror_mode": {
    "name": "ipython",
    "version": 3
   },
   "file_extension": ".py",
   "mimetype": "text/x-python",
   "name": "python",
   "nbconvert_exporter": "python",
   "pygments_lexer": "ipython3",
   "version": "3.7.3"
  }
 },
 "nbformat": 4,
 "nbformat_minor": 2
}
