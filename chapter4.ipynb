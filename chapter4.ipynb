{
 "cells": [
  {
   "cell_type": "code",
   "execution_count": 10,
   "metadata": {
    "slideshow": {
     "slide_type": "-"
    }
   },
   "outputs": [
    {
     "name": "stdout",
     "output_type": "stream",
     "text": [
      "<Element html at 0x7fb0f80e7608>\n",
      "<class 'lxml.etree._Element'>\n",
      "<html><body>\n",
      "<div>\n",
      "<ul>\n",
      "<li class=\"item-0\"><a href=\"link1.html\">first item</a></li>\n",
      "<li class=\"item-1\"><a href=\"link2.html\">second item</a></li>\n",
      "<li class=\"item-inactive\"><a href=\"link3.html\">third item</a></li>\n",
      "<li class=\"item-1\"><a href=\"link4.html\">fourth item</a></li>\n",
      "<li class=\"item-0\">\n",
      "<a href=\"link5.html\">fifth item</a>\n",
      "</li>\n",
      "</ul>\n",
      "</div>\n",
      "</body></html>\n",
      "\n"
     ]
    }
   ],
   "source": [
    "from lxml import etree\n",
    "text = '''\n",
    "<div>\n",
    "<ul>\n",
    "<li class=\"item-0\"><a href=\"link1.html\">first item</a></li>\n",
    "<li class=\"item-1\"><a href=\"link2.html\">second item</a></li>\n",
    "<li class=\"item-inactive\"><a href=\"link3.html\">third item</a></li>\n",
    "<li class=\"item-1\"><a href=\"link4.html\">fourth item</a></li>\n",
    "<li class=\"item-0\"><a href=\"link5.html\">fifth item</a>\n",
    "</ul>\n",
    "</div>\n",
    "'''\n",
    "\n",
    "html = etree.HTML(text)\n",
    "print(html)\n",
    "print(type(html))\n",
    "# result = etree.tostring(html)\n",
    "result = etree.tostring(html,encoding=\"utf-8\",pretty_print=True,method=\"html\")\n",
    "print(result.decode('utf-8'))\n"
   ]
  },
  {
   "cell_type": "code",
   "execution_count": null,
   "metadata": {},
   "outputs": [],
   "source": []
  },
  {
   "cell_type": "markdown",
   "metadata": {},
   "source": [
    "从文件读取"
   ]
  },
  {
   "cell_type": "code",
   "execution_count": 288,
   "metadata": {},
   "outputs": [
    {
     "name": "stdout",
     "output_type": "stream",
     "text": [
      "<!DOCTYPE html PUBLIC \"-//W3C//DTD HTML 4.0 Transitional//EN\" \"http://www.w3.org/TR/REC-html40/loose.dtd\">\n",
      "<html><body><div>\n",
      "<ul>\n",
      "<li class=\"item-0\"><a href=\"link1.html\">first item</a></li>\n",
      "<li class=\"item-1\"><a href=\"link2.html\">second item</a></li>\n",
      "<li class=\"item-inactive\"><a href=\"link3.html\">third item</a></li>\n",
      "<li class=\"item-1\"><a href=\"link4.html\">fourth item</a></li>\n",
      "<li class=\"item-0\"><a href=\"link5.html\">fifth item</a>\n",
      "</li></ul>\n",
      "</div>\n",
      "</body></html>\n"
     ]
    }
   ],
   "source": [
    "from lxml import etree\n",
    "\n",
    "html = etree.parse('./test.html', etree.HTMLParser())\n",
    "result = etree.tostring(html)\n",
    "print(result.decode('utf-8'))"
   ]
  },
  {
   "cell_type": "markdown",
   "metadata": {},
   "source": [
    "获取所有节点"
   ]
  },
  {
   "cell_type": "code",
   "execution_count": 289,
   "metadata": {},
   "outputs": [
    {
     "name": "stdout",
     "output_type": "stream",
     "text": [
      "<html><body><div>\n",
      "<ul>\n",
      "<li class=\"item-0\"><a href=\"link1.html\">first item</a></li>\n",
      "<li class=\"item-1\"><a href=\"link2.html\">second item</a></li>\n",
      "<li class=\"item-inactive\"><a href=\"link3.html\">third item</a></li>\n",
      "<li class=\"item-1\"><a href=\"link4.html\">fourth item</a></li>\n",
      "<li class=\"item-0\"><a href=\"link5.html\">fifth item</a>\n",
      "</li></ul>\n",
      "</div>\n",
      "</body></html>\n",
      "[<Element html at 0x7fb1d67d1748>, <Element body at 0x7fb1d509f848>, <Element div at 0x7fb1d509f248>, <Element ul at 0x7fb1d4cbfe88>, <Element li at 0x7fb1d50b58c8>, <Element a at 0x7fb1d50b5e48>, <Element li at 0x7fb1d50b5e88>, <Element a at 0x7fb1d50b5688>, <Element li at 0x7fb1d50b5788>, <Element a at 0x7fb1d50b5ec8>, <Element li at 0x7fb1d50b59c8>, <Element a at 0x7fb1d50b5648>, <Element li at 0x7fb1d50b5d08>, <Element a at 0x7fb1d55c6788>]\n"
     ]
    }
   ],
   "source": [
    "from lxml import etree\n",
    "html = etree.parse('./test.html', etree.HTMLParser())\n",
    "result = html.xpath('//*')\n",
    "print(etree.tostring(result[0]).decode('utf-8'))\n",
    "print(result)"
   ]
  },
  {
   "cell_type": "markdown",
   "metadata": {},
   "source": []
  },
  {
   "cell_type": "markdown",
   "metadata": {},
   "source": [
    "获取子节点"
   ]
  },
  {
   "cell_type": "code",
   "execution_count": 290,
   "metadata": {},
   "outputs": [
    {
     "name": "stdout",
     "output_type": "stream",
     "text": [
      "<a href=\"link1.html\">first item</a>\n",
      "<a href=\"link1.html\">first item</a>\n",
      "[<Element a at 0x7fb1d50d7c48>, <Element a at 0x7fb1d4ca0d08>, <Element a at 0x7fb1d4ca0b88>, <Element a at 0x7fb1d56d7a88>, <Element a at 0x7fb1d56d7ac8>]\n"
     ]
    }
   ],
   "source": [
    "from lxml import etree\n",
    "\n",
    "html = etree.parse('./test.html', etree.HTMLParser())\n",
    "result = html.xpath('//ul//a')\n",
    "print(etree.tostring(result[0]).decode('utf-8'))\n",
    "\n",
    "result = html.xpath('//li//a')\n",
    "print(etree.tostring(result[0]).decode('utf-8'))\n",
    "\n",
    "print(result)"
   ]
  },
  {
   "cell_type": "code",
   "execution_count": null,
   "metadata": {},
   "outputs": [],
   "source": []
  },
  {
   "cell_type": "markdown",
   "metadata": {},
   "source": [
    "父节点"
   ]
  },
  {
   "cell_type": "code",
   "execution_count": 291,
   "metadata": {},
   "outputs": [
    {
     "name": "stdout",
     "output_type": "stream",
     "text": [
      "['item-1']\n",
      "['item-0', 'item-1', 'item-inactive', 'item-1', 'item-0']\n"
     ]
    }
   ],
   "source": [
    "from lxml import etree\n",
    "\n",
    "html = etree.parse('./test.html', etree.HTMLParser())\n",
    "\n",
    "result = html.xpath('//a[@href=\"link4.html\"]/../@class')\n",
    "print(result)\n",
    "result = html.xpath('//a/../@class')\n",
    "\n",
    "print(result)"
   ]
  },
  {
   "cell_type": "code",
   "execution_count": null,
   "metadata": {},
   "outputs": [],
   "source": []
  },
  {
   "cell_type": "markdown",
   "metadata": {},
   "source": [
    "属性匹配"
   ]
  },
  {
   "cell_type": "code",
   "execution_count": 114,
   "metadata": {},
   "outputs": [
    {
     "name": "stdout",
     "output_type": "stream",
     "text": [
      "[<Element li at 0x7fb1d66f3048>, <Element li at 0x7fb1d6719188>]\n"
     ]
    }
   ],
   "source": [
    "from lxml import etree\n",
    "\n",
    "html = etree.parse('./test.html', etree.HTMLParser())\n",
    "result = html.xpath('//li[@class=\"item-0\"]')\n",
    "print(result)"
   ]
  },
  {
   "cell_type": "code",
   "execution_count": null,
   "metadata": {},
   "outputs": [],
   "source": []
  },
  {
   "cell_type": "code",
   "execution_count": 132,
   "metadata": {},
   "outputs": [
    {
     "name": "stdout",
     "output_type": "stream",
     "text": [
      "<html><body><div>\n",
      "<ul>\n",
      "<li class=\"item-0\"><a href=\"link1.html\">first item</a></li>\n",
      "<li class=\"item-1\"><a href=\"link2.html\">second item</a></li>\n",
      "<li class=\"item-inactive\"><a href=\"link3.html\">third item</a></li>\n",
      "<li class=\"item-1\"><a href=\"link4.html\">fourth item</a></li>\n",
      "<li class=\"item-0\"><a href=\"link5.html\">fifth item</a>\n",
      "</li></ul>\n",
      "</div>\n",
      "</body></html>\n"
     ]
    }
   ],
   "source": [
    "from lxml import etree\n",
    "html = etree.parse('./test.html', etree.HTMLParser())\n",
    "result = html.xpath('//*')\n",
    "print(etree.tostring(result[0]).decode('utf-8'))\n"
   ]
  },
  {
   "cell_type": "markdown",
   "metadata": {},
   "source": [
    "文本获取"
   ]
  },
  {
   "cell_type": "code",
   "execution_count": 157,
   "metadata": {},
   "outputs": [
    {
     "name": "stdout",
     "output_type": "stream",
     "text": [
      "['first item', 'fifth item', '\\n']\n",
      "['first item', 'fifth item']\n"
     ]
    }
   ],
   "source": [
    "from lxml import etree\n",
    "\n",
    "html = etree.parse('./test.html', etree.HTMLParser())\n",
    "\n",
    "restult = html.xpath('//li[@class=\"item-0\"]//text()')\n",
    "print(restult)\n",
    "restult = html.xpath('//li[@class=\"item-0\"]/a/text()')\n",
    "print(restult)"
   ]
  },
  {
   "cell_type": "code",
   "execution_count": 145,
   "metadata": {},
   "outputs": [],
   "source": []
  },
  {
   "cell_type": "markdown",
   "metadata": {},
   "source": [
    "属性获取"
   ]
  },
  {
   "cell_type": "code",
   "execution_count": 158,
   "metadata": {},
   "outputs": [
    {
     "name": "stdout",
     "output_type": "stream",
     "text": [
      "['link1.html', 'link2.html', 'link3.html', 'link4.html', 'link5.html']\n"
     ]
    }
   ],
   "source": [
    "from lxml import etree\n",
    "\n",
    "html = etree.parse('./test.html', etree.HTMLParser())\n",
    "\n",
    "result = html.xpath('//li/a/@href')\n",
    "print(result)"
   ]
  },
  {
   "cell_type": "code",
   "execution_count": null,
   "metadata": {},
   "outputs": [],
   "source": []
  },
  {
   "cell_type": "markdown",
   "metadata": {},
   "source": [
    "属性多值匹配  \n",
    "`contains()`方法 第一个参数传入属性名称 第二个参数传入属性值 属性包含所传入的属性值 便可完成匹配"
   ]
  },
  {
   "cell_type": "code",
   "execution_count": 171,
   "metadata": {},
   "outputs": [
    {
     "name": "stdout",
     "output_type": "stream",
     "text": [
      "[]\n",
      "['first item']\n"
     ]
    }
   ],
   "source": [
    "from lxml import etree\n",
    "text = '''\n",
    "<li class=\"li li-first\"><a href=\"link.html\">first item</a></li>\n",
    "'''\n",
    "html = etree.HTML(text)\n",
    "result = html.xpath('//li[@class=\"li\"]/a/text()')\n",
    "print(result)\n",
    "\n",
    "result = html.xpath('//li[contains(@class,\"li\")]/a/text()')\n",
    "print(result)"
   ]
  },
  {
   "cell_type": "code",
   "execution_count": null,
   "metadata": {},
   "outputs": [],
   "source": []
  },
  {
   "cell_type": "markdown",
   "metadata": {},
   "source": [
    "多属性匹配  \n",
    "根据多个属性确定一个节点 用`and`连接"
   ]
  },
  {
   "cell_type": "code",
   "execution_count": 176,
   "metadata": {},
   "outputs": [
    {
     "name": "stdout",
     "output_type": "stream",
     "text": [
      "['first item']\n"
     ]
    }
   ],
   "source": [
    "from lxml import etree\n",
    "text = '''\n",
    "<li class=\"li li-first\" name = \"item\"><a href=\"link.html\">first item</a></li>\n",
    "'''\n",
    "html = etree.HTML(text)\n",
    "result = html.xpath('//li[contains(@class,\"li\") and @name = \"item\"]/a/text()')\n",
    "print(result)"
   ]
  },
  {
   "cell_type": "code",
   "execution_count": null,
   "metadata": {},
   "outputs": [],
   "source": []
  },
  {
   "cell_type": "markdown",
   "metadata": {},
   "source": [
    "按序选择  \n",
    "利用中括号传入索引的方法获取特定次序的节点 从1开始"
   ]
  },
  {
   "cell_type": "code",
   "execution_count": 185,
   "metadata": {},
   "outputs": [
    {
     "name": "stdout",
     "output_type": "stream",
     "text": [
      "['first item']\n",
      "['fifth item']\n",
      "['first item', 'second item']\n",
      "['third item']\n"
     ]
    }
   ],
   "source": [
    "from lxml import etree\n",
    "text = '''\n",
    "<div>\n",
    "<ul>\n",
    "<li class=\"item-0\"><a href=\"link1.html\">first item</a></li>\n",
    "<li class=\"item-1\"><a href=\"link2.html\">second item</a></li>\n",
    "<li class=\"item-inactive\"><a href=\"link3.html\">third item</a></li>\n",
    "<li class=\"item-1\"><a href=\"link4.html\">fourth item</a></li>\n",
    "<li class=\"item-0\"><a href=\"link5.html\">fifth item</a>\n",
    "</ul>\n",
    "</div>\n",
    "'''\n",
    "\n",
    "html = etree.HTML(text)\n",
    "result = html.xpath('//li[1]/a/text()')\n",
    "print(result)\n",
    "\n",
    "result = html.xpath('//li[last()]/a/text()')\n",
    "print(result)\n",
    "\n",
    "result = html.xpath('//li [position() < 3] /a /text()')\n",
    "print(result)\n",
    "\n",
    "result = html.xpath('//li[last()-2]/a/text()')\n",
    "print(result)"
   ]
  },
  {
   "cell_type": "code",
   "execution_count": null,
   "metadata": {},
   "outputs": [],
   "source": []
  },
  {
   "cell_type": "markdown",
   "metadata": {},
   "source": [
    "节点轴选择"
   ]
  },
  {
   "cell_type": "code",
   "execution_count": 206,
   "metadata": {},
   "outputs": [
    {
     "name": "stdout",
     "output_type": "stream",
     "text": [
      "[<Element html at 0x7fb1d677a948>, <Element body at 0x7fb1e40d9c88>, <Element div at 0x7fb1d666b548>, <Element ul at 0x7fb1d666b808>]\n",
      "[<Element div at 0x7fb1d666b548>]\n",
      "['item-0']\n",
      "[<Element a at 0x7fb1d6652b48>]\n",
      "[<Element span at 0x7fb1d6652b08>]\n",
      "[<Element a at 0x7fb1d6652b48>]\n",
      "[<Element li at 0x7fb1e40d9c88>, <Element li at 0x7fb1e4037508>, <Element li at 0x7fb1d666b548>, <Element li at 0x7fb1d666b808>]\n"
     ]
    }
   ],
   "source": [
    "from lxml import etree\n",
    "text = '''\n",
    "<div>\n",
    "<ul>\n",
    "<li class=\"item-0\"><a href=\"link1.html\"><span>first item</span></a></li>\n",
    "<li class=\"item-1\"><a href=\"link2.html\">second item</a></li>\n",
    "<li class=\"item-inactive\"><a href=\"link3.html\">third item</a></li>\n",
    "<li class=\"item-1\"><a href=\"link4.html\">fourth item</a></li>\n",
    "<li class=\"item-0\"><a href=\"link5.html\">fifth item</a>\n",
    "</ul>\n",
    "</div>\n",
    "'''\n",
    "\n",
    "html = etree.HTML(text)\n",
    "result = html.xpath('//li[1]/ancestor::*')\n",
    "print(result)\n",
    "\n",
    "result = html.xpath('//li[1]/ancestor::div')\n",
    "print(result)\n",
    "\n",
    "result = html.xpath('//li[1]/attribute::*')\n",
    "print(result)\n",
    "\n",
    "result = html.xpath('//li[1]/child::a[@href = \"link1.html\"]')\n",
    "print(result)\n",
    "\n",
    "result = html.xpath('//li[1]/descendant::span')\n",
    "print(result)\n",
    "\n",
    "result = html.xpath('//li[1]/following::*[2]')\n",
    "print(result)\n",
    "\n",
    "result = html.xpath('//li[1]/following-sibling::*')\n",
    "print(result)"
   ]
  },
  {
   "cell_type": "code",
   "execution_count": null,
   "metadata": {},
   "outputs": [],
   "source": []
  },
  {
   "cell_type": "markdown",
   "metadata": {
    "toc-hr-collapsed": false
   },
   "source": [
    "## Beautiful Soup"
   ]
  },
  {
   "cell_type": "markdown",
   "metadata": {},
   "source": [
    "初始化`BeaufulSoup`的时候就会自动更正html格式"
   ]
  },
  {
   "cell_type": "code",
   "execution_count": 292,
   "metadata": {},
   "outputs": [
    {
     "name": "stdout",
     "output_type": "stream",
     "text": [
      "Hello\n"
     ]
    }
   ],
   "source": [
    "from bs4 import BeautifulSoup\n",
    "soup = BeautifulSoup('<p>Hello</p>', 'lxml')\n",
    "print(soup.p.string)"
   ]
  },
  {
   "cell_type": "code",
   "execution_count": 293,
   "metadata": {},
   "outputs": [
    {
     "name": "stdout",
     "output_type": "stream",
     "text": [
      "<html>\n",
      " <head>\n",
      "  <title>\n",
      "   The Dormouse's story\n",
      "  </title>\n",
      " </head>\n",
      " <body>\n",
      "  <p class=\"title\" name=\"dromouse\">\n",
      "   <b>\n",
      "    The Dormouse's story\n",
      "   </b>\n",
      "  </p>\n",
      "  <p class=\"story\">\n",
      "   Once upon a time there were three little sisters; and their names were\n",
      "   <a class=\"sister\" href=\"http://example.com/elsie\" id=\"link1\">\n",
      "    <!-- Elsie -->\n",
      "   </a>\n",
      "   ,\n",
      "   <a class=\"sister\" href=\"http://example.com/lacie\" id=\"link2\">\n",
      "    Lacie\n",
      "   </a>\n",
      "   and\n",
      "   <a class=\"sister\" href=\"http://example.com/tillie\" id=\"link3\">\n",
      "    Tillie\n",
      "   </a>\n",
      "   ;\n",
      "and they lived at the bottom a well.\n",
      "  </p>\n",
      "  <p class=\"story\">\n",
      "   ...\n",
      "  </p>\n",
      " </body>\n",
      "</html>\n",
      "The Dormouse's story\n"
     ]
    }
   ],
   "source": [
    "html = '''\n",
    "<html><head><title>The Dormouse's story</title></head>\n",
    "<body>\n",
    "<p class=\"title\" name=\"dromouse\"><b>The Dormouse's story</b></p>\n",
    "<p class=\"story\">Once upon a time there were three little sisters; and their names were\n",
    "<a href=\"http://example.com/elsie\" class=\"sister\" id=\"link1\"><!-- Elsie --></a>,\n",
    "<a href=\"http://example.com/lacie\" class=\"sister\" id=\"link2\">Lacie</a> and\n",
    "<a href=\"http://example.com/tillie\" class=\"sister\" id=\"link3\">Tillie</a>;\n",
    "and they lived at the bottom a well.</p>\n",
    "<p class=\"story\">...</p>\n",
    "'''\n",
    "\n",
    "from bs4 import BeautifulSoup\n",
    "soup = BeautifulSoup(html, 'lxml')\n",
    "print(soup.prettify())\n",
    "print(soup.title.string)\n"
   ]
  },
  {
   "cell_type": "code",
   "execution_count": null,
   "metadata": {},
   "outputs": [],
   "source": []
  },
  {
   "cell_type": "markdown",
   "metadata": {
    "toc-hr-collapsed": true
   },
   "source": [
    "### 节点选择器"
   ]
  },
  {
   "cell_type": "markdown",
   "metadata": {},
   "source": [
    "#### 选择元素"
   ]
  },
  {
   "cell_type": "code",
   "execution_count": 294,
   "metadata": {},
   "outputs": [
    {
     "name": "stdout",
     "output_type": "stream",
     "text": [
      "<title>The Dormouse's story</title>\n",
      "<class 'bs4.element.Tag'>\n",
      "The Dormouse's story\n",
      "<head><title>The Dormouse's story</title></head>\n",
      "<p class=\"title\" name=\"dromouse\"><b>The Dormouse's story</b></p>\n"
     ]
    }
   ],
   "source": [
    "html = '''\n",
    "<html><head><title>The Dormouse's story</title></head>\n",
    "<body>\n",
    "<p class=\"title\" name=\"dromouse\"><b>The Dormouse's story</b></p>\n",
    "<p class=\"story\">Once upon a time there were three little sisters; and their names were\n",
    "<a href=\"http://example.com/elsie\" class=\"sister\" id=\"link1\"><!-- Elsie --></a>,\n",
    "<a href=\"http://example.com/lacie\" class=\"sister\" id=\"link2\">Lacie</a> and\n",
    "<a href=\"http://example.com/tillie\" class=\"sister\" id=\"link3\">Tillie</a>;\n",
    "and they lived at the bottom a well.</p>\n",
    "<p class=\"story\">...</p>\n",
    "'''\n",
    "\n",
    "from bs4 import BeautifulSoup\n",
    "soup = BeautifulSoup(html, 'lxml')\n",
    "print(soup.title)\n",
    "print(type(soup.title))\n",
    "print(soup.title.string)\n",
    "print(soup.head)\n",
    "print(soup.p)"
   ]
  },
  {
   "cell_type": "code",
   "execution_count": null,
   "metadata": {},
   "outputs": [],
   "source": []
  },
  {
   "cell_type": "markdown",
   "metadata": {
    "toc-hr-collapsed": true
   },
   "source": [
    "#### 提取信息"
   ]
  },
  {
   "cell_type": "markdown",
   "metadata": {},
   "source": [
    "##### 获取名称"
   ]
  },
  {
   "cell_type": "code",
   "execution_count": 295,
   "metadata": {},
   "outputs": [
    {
     "name": "stdout",
     "output_type": "stream",
     "text": [
      "title\n"
     ]
    }
   ],
   "source": [
    "print(soup.title.name)"
   ]
  },
  {
   "cell_type": "markdown",
   "metadata": {},
   "source": [
    "##### 获取属性"
   ]
  },
  {
   "cell_type": "code",
   "execution_count": 296,
   "metadata": {},
   "outputs": [
    {
     "name": "stdout",
     "output_type": "stream",
     "text": [
      "{'class': ['title'], 'name': 'dromouse'}\n",
      "dromouse\n"
     ]
    }
   ],
   "source": [
    "print(soup.p.attrs)\n",
    "print(soup.p.attrs['name'])"
   ]
  },
  {
   "cell_type": "code",
   "execution_count": 297,
   "metadata": {},
   "outputs": [
    {
     "name": "stdout",
     "output_type": "stream",
     "text": [
      "dromouse\n",
      "['title']\n"
     ]
    }
   ],
   "source": [
    "print(soup.p['name'])\n",
    "print(soup.p['class'])"
   ]
  },
  {
   "cell_type": "markdown",
   "metadata": {},
   "source": [
    "##### 获取内容"
   ]
  },
  {
   "cell_type": "code",
   "execution_count": 298,
   "metadata": {},
   "outputs": [
    {
     "name": "stdout",
     "output_type": "stream",
     "text": [
      "The Dormouse's story\n"
     ]
    }
   ],
   "source": [
    "print(soup.p.string)"
   ]
  },
  {
   "cell_type": "markdown",
   "metadata": {},
   "source": [
    "##### 嵌套选择"
   ]
  },
  {
   "cell_type": "code",
   "execution_count": 299,
   "metadata": {},
   "outputs": [
    {
     "name": "stdout",
     "output_type": "stream",
     "text": [
      "<title>The Dormouse's story</title>\n",
      "<class 'bs4.element.Tag'>\n",
      "The Dormouse's story\n"
     ]
    }
   ],
   "source": [
    "html = \"\"\"\n",
    "<html><head><title>The Dormouse's story</title></head>\n",
    "<body>\n",
    "\"\"\"\n",
    "\n",
    "from bs4 import BeautifulSoup\n",
    "soup = BeautifulSoup(html,'lxml')\n",
    "print(soup.head.title)\n",
    "print(type(soup.head.title))\n",
    "print(soup.html.title.string)"
   ]
  },
  {
   "cell_type": "markdown",
   "metadata": {},
   "source": [
    "##### 关联选择"
   ]
  },
  {
   "cell_type": "code",
   "execution_count": 300,
   "metadata": {},
   "outputs": [
    {
     "name": "stdout",
     "output_type": "stream",
     "text": [
      "['\\n    Once upon a time there were three little sisters; and their names were\\n    ', <a class=\"sister\" href=\"http://example.com/elsie\" id=\"link1\">\n",
      "<span>Elsie</span>\n",
      "</a>, '\\n', <a class=\"sister\" href=\"http://example.com/lacie\" id=\"link2\">Lacie</a>, ' \\nand\\n', <a class=\"sister\" href=\"http://example.com/tillie\" id=\"link3\">Tillie</a>, ';\\n']\n"
     ]
    }
   ],
   "source": [
    "html = \"\"\"\n",
    "<html><head><title>The Dormouse's story</title>\n",
    "</head>\n",
    "<body>\n",
    "<p class = \"story\">\n",
    "    Once upon a time there were three little sisters; and their names were\n",
    "    <a href = \"http://example.com/elsie\" class = \"sister\" id = \"link1\">\n",
    "<span>Elsie</span>\n",
    "</a>\n",
    "<a href=\"http://example.com/lacie\" class=\"sister\" id=\"link2\">Lacie</a> \n",
    "and\n",
    "<a href=\"http://example.com/tillie\" class=\"sister\" id=\"link3\">Tillie</a>;\n",
    "</p>\n",
    "<p class = \"story\">...</p>\n",
    "\"\"\"\n",
    "\n",
    "from bs4 import BeautifulSoup\n",
    "soup = BeautifulSoup(html, 'lxml')\n",
    "print(soup.p.contents)"
   ]
  },
  {
   "cell_type": "code",
   "execution_count": 301,
   "metadata": {},
   "outputs": [
    {
     "name": "stdout",
     "output_type": "stream",
     "text": [
      "<list_iterator object at 0x7fb1d4c79f28>\n",
      "0 \n",
      "    Once upon a time there were three little sisters; and their names were\n",
      "    \n",
      "1 <a class=\"sister\" href=\"http://example.com/elsie\" id=\"link1\">\n",
      "<span>Elsie</span>\n",
      "</a>\n",
      "2 \n",
      "\n",
      "3 <a class=\"sister\" href=\"http://example.com/lacie\" id=\"link2\">Lacie</a>\n",
      "4  \n",
      "and\n",
      "\n",
      "5 <a class=\"sister\" href=\"http://example.com/tillie\" id=\"link3\">Tillie</a>\n",
      "6 ;\n",
      "\n"
     ]
    }
   ],
   "source": [
    "from bs4 import BeautifulSoup\n",
    "soup = BeautifulSoup(html,'lxml')\n",
    "print(soup.p.children)\n",
    "\n",
    "for i,child in enumerate(soup.p.children):\n",
    "    print(i,child)"
   ]
  },
  {
   "cell_type": "code",
   "execution_count": 302,
   "metadata": {},
   "outputs": [
    {
     "name": "stdout",
     "output_type": "stream",
     "text": [
      "<generator object Tag.descendants at 0x7fb1d4cce4f8>\n",
      "0 \n",
      "    Once upon a time there were three little sisters; and their names were\n",
      "    \n",
      "1 <a class=\"sister\" href=\"http://example.com/elsie\" id=\"link1\">\n",
      "<span>Elsie</span>\n",
      "</a>\n",
      "2 \n",
      "\n",
      "3 <span>Elsie</span>\n",
      "4 Elsie\n",
      "5 \n",
      "\n",
      "6 \n",
      "\n",
      "7 <a class=\"sister\" href=\"http://example.com/lacie\" id=\"link2\">Lacie</a>\n",
      "8 Lacie\n",
      "9  \n",
      "and\n",
      "\n",
      "10 <a class=\"sister\" href=\"http://example.com/tillie\" id=\"link3\">Tillie</a>\n",
      "11 Tillie\n",
      "12 ;\n",
      "\n"
     ]
    }
   ],
   "source": [
    "from bs4 import BeautifulSoup\n",
    "soup = BeautifulSoup(html, 'lxml')\n",
    "print(soup.p.descendants)\n",
    "\n",
    "for i, child in enumerate(soup.p.descendants):\n",
    "    print(i,child)"
   ]
  },
  {
   "cell_type": "markdown",
   "metadata": {},
   "source": [
    "##### 父节点 祖先节点"
   ]
  },
  {
   "cell_type": "code",
   "execution_count": 303,
   "metadata": {},
   "outputs": [
    {
     "name": "stdout",
     "output_type": "stream",
     "text": [
      "<p class=\"story\">\n",
      "    Once upon a time there were three little sisters; and their names were\n",
      "    <a class=\"sister\" href=\"http://example.com/elsie\" id=\"link1\">\n",
      "<span>Elsie</span>\n",
      "</a>\n",
      "<a class=\"sister\" href=\"http://example.com/lacie\" id=\"link2\">Lacie</a> \n",
      "and\n",
      "<a class=\"sister\" href=\"http://example.com/tillie\" id=\"link3\">Tillie</a>;\n",
      "</p>\n"
     ]
    }
   ],
   "source": [
    "from bs4 import BeautifulSoup\n",
    "soup = BeautifulSoup(html, 'lxml')\n",
    "print(soup.a.parent)\n"
   ]
  },
  {
   "cell_type": "code",
   "execution_count": 304,
   "metadata": {},
   "outputs": [
    {
     "name": "stdout",
     "output_type": "stream",
     "text": [
      "<class 'generator'>\n",
      "[(0, <p class=\"story\">\n",
      "    Once upon a time there were three little sisters; and their names were\n",
      "    <a class=\"sister\" href=\"http://example.com/elsie\" id=\"link1\">\n",
      "<span>Elsie</span>\n",
      "</a>\n",
      "<a class=\"sister\" href=\"http://example.com/lacie\" id=\"link2\">Lacie</a> \n",
      "and\n",
      "<a class=\"sister\" href=\"http://example.com/tillie\" id=\"link3\">Tillie</a>;\n",
      "</p>), (1, <body>\n",
      "<p class=\"story\">\n",
      "    Once upon a time there were three little sisters; and their names were\n",
      "    <a class=\"sister\" href=\"http://example.com/elsie\" id=\"link1\">\n",
      "<span>Elsie</span>\n",
      "</a>\n",
      "<a class=\"sister\" href=\"http://example.com/lacie\" id=\"link2\">Lacie</a> \n",
      "and\n",
      "<a class=\"sister\" href=\"http://example.com/tillie\" id=\"link3\">Tillie</a>;\n",
      "</p>\n",
      "<p class=\"story\">...</p>\n",
      "</body>), (2, <html><head><title>The Dormouse's story</title>\n",
      "</head>\n",
      "<body>\n",
      "<p class=\"story\">\n",
      "    Once upon a time there were three little sisters; and their names were\n",
      "    <a class=\"sister\" href=\"http://example.com/elsie\" id=\"link1\">\n",
      "<span>Elsie</span>\n",
      "</a>\n",
      "<a class=\"sister\" href=\"http://example.com/lacie\" id=\"link2\">Lacie</a> \n",
      "and\n",
      "<a class=\"sister\" href=\"http://example.com/tillie\" id=\"link3\">Tillie</a>;\n",
      "</p>\n",
      "<p class=\"story\">...</p>\n",
      "</body></html>), (3, <html><head><title>The Dormouse's story</title>\n",
      "</head>\n",
      "<body>\n",
      "<p class=\"story\">\n",
      "    Once upon a time there were three little sisters; and their names were\n",
      "    <a class=\"sister\" href=\"http://example.com/elsie\" id=\"link1\">\n",
      "<span>Elsie</span>\n",
      "</a>\n",
      "<a class=\"sister\" href=\"http://example.com/lacie\" id=\"link2\">Lacie</a> \n",
      "and\n",
      "<a class=\"sister\" href=\"http://example.com/tillie\" id=\"link3\">Tillie</a>;\n",
      "</p>\n",
      "<p class=\"story\">...</p>\n",
      "</body></html>)]\n"
     ]
    }
   ],
   "source": [
    "from bs4 import BeautifulSoup\n",
    "soup = BeautifulSoup(html, 'lxml')\n",
    "print(type(soup.a.parents))\n",
    "print(list(enumerate(soup.a.parents)))"
   ]
  },
  {
   "cell_type": "markdown",
   "metadata": {},
   "source": [
    "##### 兄弟节点"
   ]
  },
  {
   "cell_type": "code",
   "execution_count": 305,
   "metadata": {},
   "outputs": [
    {
     "name": "stdout",
     "output_type": "stream",
     "text": [
      "Next Sibling \n",
      "            Hello\n",
      "            \n",
      "prev Sibling \n",
      "            Once upon a time there were three little sisters; and their names were\n",
      "            \n",
      "next Silblings [(0, '\\n            Hello\\n            '), (1, <a class=\"sister\" href=\"http://example.com/lacie\" id=\"link2\">Lacie</a>), (2, '\\n            and\\n            '), (3, <a class=\"sister\" href=\"http://example.com/tillie\" id=\"link3\">Tillie</a>), (4, '\\n            and they lived at the bottom of a well.\\n        ')]\n",
      "prev Silblings [(0, '\\n            Once upon a time there were three little sisters; and their names were\\n            ')]\n"
     ]
    }
   ],
   "source": [
    "html = \"\"\"\n",
    "<html>\n",
    "    <body>\n",
    "        <p class=\"story\">\n",
    "            Once upon a time there were three little sisters; and their names were\n",
    "            <a href=\"http://example.com/elsie\" class=\"sister\" id=\"link1\">\n",
    "                <span>Elsie</span>\n",
    "            </a>\n",
    "            Hello\n",
    "            <a href=\"http://example.com/lacie\" class=\"sister\" id=\"link2\">Lacie</a>\n",
    "            and\n",
    "            <a href=\"http://example.com/tillie\" class=\"sister\" id=\"link3\">Tillie</a>\n",
    "            and they lived at the bottom of a well.\n",
    "        </p>\n",
    "\"\"\"\n",
    "\n",
    "from bs4 import BeautifulSoup\n",
    "soup = BeautifulSoup(html, 'lxml')\n",
    "print('Next Sibling', soup.a.next_sibling)\n",
    "print('prev Sibling', soup.a.previous_sibling)\n",
    "print('next Silblings', list(enumerate(soup.a.next_siblings)))\n",
    "print('prev Silblings', list(enumerate(soup.a.previous_siblings)))"
   ]
  },
  {
   "cell_type": "code",
   "execution_count": null,
   "metadata": {},
   "outputs": [],
   "source": []
  },
  {
   "cell_type": "markdown",
   "metadata": {},
   "source": [
    "##### 提取信息"
   ]
  },
  {
   "cell_type": "code",
   "execution_count": 306,
   "metadata": {},
   "outputs": [
    {
     "name": "stdout",
     "output_type": "stream",
     "text": [
      "Next Sibling:\n",
      "<class 'bs4.element.Tag'>\n",
      "<a class=\"sister\" href=\"http://example.com/lacie\" id=\"link2\">Lacie</a>\n",
      "Lacie\n",
      "Parent:\n",
      "<class 'generator'>\n",
      "<p class=\"story\">\n",
      "            Once upon a time there were three little sisters; and their names were\n",
      "            <a class=\"sister\" href=\"http://example.com/elsie\" id=\"link1\">Bob</a><a class=\"sister\" href=\"http://example.com/lacie\" id=\"link2\">Lacie</a>\n",
      "</p>\n",
      "['story']\n"
     ]
    }
   ],
   "source": [
    "html = \"\"\"\n",
    "<html>\n",
    "    <body>\n",
    "        <p class=\"story\">\n",
    "            Once upon a time there were three little sisters; and their names were\n",
    "            <a href=\"http://example.com/elsie\" class=\"sister\" id=\"link1\">Bob</a><a href=\"http://example.com/lacie\" class=\"sister\" id=\"link2\">Lacie</a>\n",
    "        </p>\n",
    "\"\"\"\n",
    "from bs4 import BeautifulSoup\n",
    "soup = BeautifulSoup(html, 'lxml')\n",
    "print('Next Sibling:')\n",
    "print(type(soup.a.next_sibling))\n",
    "print(soup.a.next_sibling)\n",
    "print(soup.a.next_sibling.string)\n",
    "print('Parent:')\n",
    "print(type(soup.a.parents))\n",
    "print(list(soup.a.parents)[0])\n",
    "print(list(soup.a.parents)[0].attrs['class'])"
   ]
  },
  {
   "cell_type": "code",
   "execution_count": null,
   "metadata": {},
   "outputs": [],
   "source": []
  },
  {
   "cell_type": "markdown",
   "metadata": {
    "toc-hr-collapsed": true
   },
   "source": [
    "### 方法选择器"
   ]
  },
  {
   "cell_type": "markdown",
   "metadata": {
    "toc-hr-collapsed": true
   },
   "source": [
    "#### find_all()  \n",
    "`find_all(name, attrs, recursive, text, **kwargs)`  \n",
    "返回所有匹配元素组成的数组"
   ]
  },
  {
   "cell_type": "markdown",
   "metadata": {},
   "source": [
    "##### name"
   ]
  },
  {
   "cell_type": "code",
   "execution_count": 307,
   "metadata": {},
   "outputs": [
    {
     "name": "stdout",
     "output_type": "stream",
     "text": [
      "[<ul class=\"list\" id=\"list-1\">\n",
      "<li class=\"element\">Foo</li>\n",
      "<li class=\"element\">Bar</li>\n",
      "<li class=\"element\">Jay</li>\n",
      "</ul>, <ul class=\"list list-small\" id=\"list-2\">\n",
      "<li class=\"element\">Foo</li>\n",
      "<li class=\"element\">Bar</li>\n",
      "</ul>]\n",
      "<class 'bs4.element.Tag'>\n",
      "[<li class=\"element\">Foo</li>, <li class=\"element\">Bar</li>, <li class=\"element\">Jay</li>]\n",
      "[<li class=\"element\">Foo</li>, <li class=\"element\">Bar</li>]\n",
      "[<li class=\"element\">Foo</li>, <li class=\"element\">Bar</li>, <li class=\"element\">Jay</li>]\n",
      "Foo\n",
      "Bar\n",
      "Jay\n",
      "[<li class=\"element\">Foo</li>, <li class=\"element\">Bar</li>]\n",
      "Foo\n",
      "Bar\n"
     ]
    }
   ],
   "source": [
    "html='''\n",
    "<div class=\"panel\">\n",
    "    <div class=\"panel-heading\">\n",
    "        <h4>Hello</h4>\n",
    "    </div>\n",
    "    <div class=\"panel-body\">\n",
    "        <ul class=\"list\" id=\"list-1\">\n",
    "            <li class=\"element\">Foo</li>\n",
    "            <li class=\"element\">Bar</li>\n",
    "            <li class=\"element\">Jay</li>\n",
    "        </ul>\n",
    "        <ul class=\"list list-small\" id=\"list-2\">\n",
    "            <li class=\"element\">Foo</li>\n",
    "            <li class=\"element\">Bar</li>\n",
    "        </ul>\n",
    "    </div>\n",
    "</div>\n",
    "'''\n",
    "from bs4 import BeautifulSoup\n",
    "soup = BeautifulSoup(html, 'lxml')\n",
    "print(soup.find_all(name='ul'))\n",
    "print(type(soup.find_all(name='ul')[0]))\n",
    "\n",
    "for ul in soup.find_all(name='ul'):\n",
    "    print(ul.find_all(name='li'))\n",
    "    \n",
    "for ul in soup.find_all(name='ul'):\n",
    "    print(ul.find_all(name='li'))\n",
    "    for li in ul.find_all(name='li'):\n",
    "        print(li.string)\n"
   ]
  },
  {
   "cell_type": "markdown",
   "metadata": {},
   "source": [
    "##### attrs"
   ]
  },
  {
   "cell_type": "code",
   "execution_count": 309,
   "metadata": {},
   "outputs": [
    {
     "name": "stdout",
     "output_type": "stream",
     "text": [
      "[<ul class=\"list\" id=\"list-1\" name=\"elements\">\n",
      "<li class=\"element\">Foo</li>\n",
      "<li class=\"element\">Bar</li>\n",
      "<li class=\"element\">Jay</li>\n",
      "</ul>]\n",
      "[<ul class=\"list\" id=\"list-1\" name=\"elements\">\n",
      "<li class=\"element\">Foo</li>\n",
      "<li class=\"element\">Bar</li>\n",
      "<li class=\"element\">Jay</li>\n",
      "</ul>]\n",
      "[<li class=\"element\">Foo</li>, <li class=\"element\">Bar</li>, <li class=\"element\">Jay</li>, <li class=\"element\">Foo</li>, <li class=\"element\">Bar</li>]\n",
      "[<ul class=\"list\" id=\"list-1\" name=\"elements\">\n",
      "<li class=\"element\">Foo</li>\n",
      "<li class=\"element\">Bar</li>\n",
      "<li class=\"element\">Jay</li>\n",
      "</ul>]\n",
      "[<li class=\"element\">Foo</li>, <li class=\"element\">Bar</li>, <li class=\"element\">Jay</li>, <li class=\"element\">Foo</li>, <li class=\"element\">Bar</li>]\n"
     ]
    }
   ],
   "source": [
    "html='''\n",
    "<div class=\"panel\">\n",
    "    <div class=\"panel-heading\">\n",
    "        <h4>Hello</h4>\n",
    "    </div>\n",
    "    <div class=\"panel-body\">\n",
    "        <ul class=\"list\" id=\"list-1\" name=\"elements\">\n",
    "            <li class=\"element\">Foo</li>\n",
    "            <li class=\"element\">Bar</li>\n",
    "            <li class=\"element\">Jay</li>\n",
    "        </ul>\n",
    "        <ul class=\"list list-small\" id=\"list-2\">\n",
    "            <li class=\"element\">Foo</li>\n",
    "            <li class=\"element\">Bar</li>\n",
    "        </ul>\n",
    "    </div>\n",
    "</div>\n",
    "'''\n",
    "from bs4 import BeautifulSoup\n",
    "soup = BeautifulSoup(html, 'lxml')\n",
    "print(soup.find_all(attrs={'id': 'list-1'}))\n",
    "print(soup.find_all(attrs={'name': 'elements'}))\n",
    "print(soup.find_all(attrs={'class': 'element'}))\n",
    "\n",
    "from bs4 import BeautifulSoup\n",
    "soup = BeautifulSoup(html, 'lxml')\n",
    "print(soup.find_all(id ='list-1'))\n",
    "print(soup.find_all(class_='element'))"
   ]
  },
  {
   "cell_type": "code",
   "execution_count": null,
   "metadata": {},
   "outputs": [],
   "source": []
  },
  {
   "cell_type": "markdown",
   "metadata": {},
   "source": [
    "##### text"
   ]
  },
  {
   "cell_type": "code",
   "execution_count": 320,
   "metadata": {},
   "outputs": [
    {
     "name": "stdout",
     "output_type": "stream",
     "text": [
      "['Hello, this is a link', 'Hello, this is a link, too']\n"
     ]
    }
   ],
   "source": [
    "import re\n",
    "html='''\n",
    "<div class=\"panel\">\n",
    "    <div class=\"panel-body\">\n",
    "        <a>Hello, this is a link</a>\n",
    "        <a>Hello, this is a link, too</a>\n",
    "    </div>\n",
    "</div>\n",
    "'''\n",
    "from bs4 import BeautifulSoup\n",
    "soup = BeautifulSoup(html, 'lxml')\n",
    "print(soup.find_all(text=re.compile('link')))"
   ]
  },
  {
   "cell_type": "code",
   "execution_count": null,
   "metadata": {},
   "outputs": [],
   "source": []
  },
  {
   "cell_type": "markdown",
   "metadata": {},
   "source": [
    "#### find()  \n",
    "返回匹配的第一个元素"
   ]
  },
  {
   "cell_type": "code",
   "execution_count": 321,
   "metadata": {},
   "outputs": [
    {
     "name": "stdout",
     "output_type": "stream",
     "text": [
      "<ul class=\"list\" id=\"list-1\">\n",
      "<li class=\"element\">Foo</li>\n",
      "<li class=\"element\">Bar</li>\n",
      "<li class=\"element\">Jay</li>\n",
      "</ul>\n",
      "<class 'bs4.element.Tag'>\n",
      "<ul class=\"list\" id=\"list-1\">\n",
      "<li class=\"element\">Foo</li>\n",
      "<li class=\"element\">Bar</li>\n",
      "<li class=\"element\">Jay</li>\n",
      "</ul>\n"
     ]
    }
   ],
   "source": [
    "html='''\n",
    "<div class=\"panel\">\n",
    "    <div class=\"panel-heading\">\n",
    "        <h4>Hello</h4>\n",
    "    </div>\n",
    "    <div class=\"panel-body\">\n",
    "        <ul class=\"list\" id=\"list-1\">\n",
    "            <li class=\"element\">Foo</li>\n",
    "            <li class=\"element\">Bar</li>\n",
    "            <li class=\"element\">Jay</li>\n",
    "        </ul>\n",
    "        <ul class=\"list list-small\" id=\"list-2\">\n",
    "            <li class=\"element\">Foo</li>\n",
    "            <li class=\"element\">Bar</li>\n",
    "        </ul>\n",
    "    </div>\n",
    "</div>\n",
    "'''\n",
    "from bs4 import BeautifulSoup\n",
    "soup = BeautifulSoup(html, 'lxml')\n",
    "print(soup.find(name='ul'))\n",
    "print(type(soup.find(name='ul')))\n",
    "print(soup.find(class_='list'))"
   ]
  },
  {
   "cell_type": "code",
   "execution_count": null,
   "metadata": {},
   "outputs": [],
   "source": []
  },
  {
   "cell_type": "markdown",
   "metadata": {
    "toc-hr-collapsed": true
   },
   "source": [
    "### CSS选择器"
   ]
  },
  {
   "cell_type": "code",
   "execution_count": 342,
   "metadata": {},
   "outputs": [
    {
     "name": "stdout",
     "output_type": "stream",
     "text": [
      "[<div class=\"panel-heading\">\n",
      "<h4>Hello</h4>\n",
      "</div>]\n",
      "[<li class=\"element\">Foo</li>, <li class=\"element\">Bar</li>, <li class=\"element\">Jay</li>, <li class=\"element\">Foo</li>, <li class=\"element\">Bar</li>]\n",
      "[<li class=\"element\">Foo</li>, <li class=\"element\">Bar</li>]\n",
      "<class 'bs4.element.Tag'>\n",
      "[<li class=\"element\">Foo</li>, <li class=\"element\">Bar</li>, <li class=\"element\">Jay</li>]\n",
      "[<li class=\"element\">Foo</li>, <li class=\"element\">Bar</li>]\n",
      "list-1\n",
      "list-1\n",
      "list-2\n",
      "list-2\n",
      "Get Text: Foo\n",
      "String: Foo\n",
      "Get Text: Bar\n",
      "String: Bar\n",
      "Get Text: Jay\n",
      "String: Jay\n",
      "Get Text: Foo\n",
      "String: Foo\n",
      "Get Text: Bar\n",
      "String: Bar\n"
     ]
    }
   ],
   "source": [
    "html='''\n",
    "<div class=\"panel\">\n",
    "    <div class=\"panel-heading\">\n",
    "        <h4>Hello</h4>\n",
    "    </div>\n",
    "    <div class=\"panel-body\">\n",
    "        <ul class=\"list\" id=\"list-1\">\n",
    "            <li class=\"element\">Foo</li>\n",
    "            <li class=\"element\">Bar</li>\n",
    "            <li class=\"element\">Jay</li>\n",
    "        </ul>\n",
    "        <ul class=\"list list-small\" id=\"list-2\">\n",
    "            <li class=\"element\">Foo</li>\n",
    "            <li class=\"element\">Bar</li>\n",
    "        </ul>\n",
    "    </div>\n",
    "</div>\n",
    "'''\n",
    "from bs4 import BeautifulSoup\n",
    "soup = BeautifulSoup(html, 'lxml')\n",
    "print(soup.select('.panel .panel-heading'))\n",
    "print(soup.select('ul li'))\n",
    "print(soup.select('#list-2 .element'))\n",
    "print(type(soup.select('ul')[0]))\n",
    "\n",
    "from bs4 import BeautifulSoup\n",
    "soup = BeautifulSoup(html, 'lxml')\n",
    "for ul in soup.select('ul'):\n",
    "    print(ul.select('li'))\n",
    "    \n",
    "    \n",
    "from bs4 import BeautifulSoup\n",
    "soup = BeautifulSoup(html, 'lxml')\n",
    "for ul in soup.select('ul'):\n",
    "    print(ul['id'])\n",
    "    print(ul.attrs['id'])\n",
    "    \n",
    "from bs4 import BeautifulSoup\n",
    "soup = BeautifulSoup(html, 'lxml')\n",
    "for li in soup.select('li'):\n",
    "    print('Get Text:', li.get_text())\n",
    "    print('String:', li.string)"
   ]
  },
  {
   "cell_type": "code",
   "execution_count": null,
   "metadata": {},
   "outputs": [],
   "source": []
  },
  {
   "cell_type": "markdown",
   "metadata": {},
   "source": [
    "## 使用pyquery"
   ]
  },
  {
   "cell_type": "markdown",
   "metadata": {},
   "source": [
    "### 初始化"
   ]
  },
  {
   "cell_type": "markdown",
   "metadata": {},
   "source": [
    "#### 字符串初始化"
   ]
  },
  {
   "cell_type": "code",
   "execution_count": 350,
   "metadata": {},
   "outputs": [
    {
     "name": "stdout",
     "output_type": "stream",
     "text": [
      "<li class=\"item-0\">first item</li>\n",
      "         <li class=\"item-1\"><a href=\"link2.html\">second item</a></li>\n",
      "         <li class=\"item-0 active\"><a href=\"link3.html\"><span class=\"bold\">third item</span></a></li>\n",
      "         <li class=\"item-1 active\"><a href=\"link4.html\">fourth item</a></li>\n",
      "         <li class=\"item-0\"><a href=\"link5.html\">fifth item</a></li>\n",
      "     \n"
     ]
    }
   ],
   "source": [
    "html = '''\n",
    "<div>\n",
    "    <ul>\n",
    "         <li class=\"item-0\">first item</li>\n",
    "         <li class=\"item-1\"><a href=\"link2.html\">second item</a></li>\n",
    "         <li class=\"item-0 active\"><a href=\"link3.html\"><span class=\"bold\">third item</span></a></li>\n",
    "         <li class=\"item-1 active\"><a href=\"link4.html\">fourth item</a></li>\n",
    "         <li class=\"item-0\"><a href=\"link5.html\">fifth item</a></li>\n",
    "     </ul>\n",
    " </div>\n",
    "'''\n",
    "from pyquery import PyQuery as pq\n",
    "doc = pq(html)\n",
    "print(doc('li'))"
   ]
  },
  {
   "cell_type": "markdown",
   "metadata": {},
   "source": []
  },
  {
   "cell_type": "markdown",
   "metadata": {},
   "source": [
    "#### URL初始化"
   ]
  },
  {
   "cell_type": "code",
   "execution_count": 363,
   "metadata": {},
   "outputs": [
    {
     "name": "stdout",
     "output_type": "stream",
     "text": [
      "<title>百度一下，你就知道</title>\n"
     ]
    }
   ],
   "source": [
    "from pyquery import PyQuery as pq\n",
    "doc = pq(url = 'https://baidu.com/',encoding = 'utf-8')\n",
    "print(doc('title'))"
   ]
  },
  {
   "cell_type": "code",
   "execution_count": 383,
   "metadata": {},
   "outputs": [
    {
     "name": "stdout",
     "output_type": "stream",
     "text": [
      "<title>百度一下，你就知道</title>\n"
     ]
    }
   ],
   "source": [
    "from pyquery import PyQuery as pq\n",
    "import requests\n",
    "response = requests.get('https://www.baidu.com')\n",
    "response.encoding = 'utf-8'\n",
    "doc = pq(response.text)\n",
    "print(doc('title'))"
   ]
  },
  {
   "cell_type": "code",
   "execution_count": 388,
   "metadata": {},
   "outputs": [
    {
     "name": "stdout",
     "output_type": "stream",
     "text": [
      "chapter3.ipynb\tchapter4.ipynb\tresult.txt  test.html  抓取猫眼电影排行.ipynb\n"
     ]
    }
   ],
   "source": [
    "!ls"
   ]
  },
  {
   "cell_type": "markdown",
   "metadata": {
    "toc-hr-collapsed": false
   },
   "source": [
    "#### 文件初始化"
   ]
  },
  {
   "cell_type": "code",
   "execution_count": 391,
   "metadata": {},
   "outputs": [
    {
     "name": "stdout",
     "output_type": "stream",
     "text": [
      "<li class=\"item-0\"><a href=\"link1.html\">first item</a></li>\n",
      "<li class=\"item-1\"><a href=\"link2.html\">second item</a></li>\n",
      "<li class=\"item-inactive\"><a href=\"link3.html\">third item</a></li>\n",
      "<li class=\"item-1\"><a href=\"link4.html\">fourth item</a></li>\n",
      "<li class=\"item-0\"><a href=\"link5.html\">fifth item</a>\n",
      "</li>\n"
     ]
    }
   ],
   "source": [
    "from pyquery import PyQuery as pq\n",
    "doc = pq(filename = 'test.html')\n",
    "print(doc('title'))"
   ]
  },
  {
   "cell_type": "code",
   "execution_count": null,
   "metadata": {},
   "outputs": [],
   "source": []
  },
  {
   "cell_type": "markdown",
   "metadata": {},
   "source": [
    "### 基本CSS选择器"
   ]
  },
  {
   "cell_type": "code",
   "execution_count": 399,
   "metadata": {},
   "outputs": [
    {
     "name": "stdout",
     "output_type": "stream",
     "text": [
      "<ul class=\"list\">\n",
      "         <li class=\"item-0\">first item</li>\n",
      "         <li class=\"item-1\"><a href=\"link2.html\">second item</a></li>\n",
      "         <li class=\"item-0 active\"><a href=\"link3.html\"><span class=\"bold\">third item</span></a></li>\n",
      "         <li class=\"item-1 active\"><a href=\"link4.html\">fourth item</a></li>\n",
      "         <li class=\"item-0\"><a href=\"link5.html\">fifth item</a></li>\n",
      "     </ul>\n",
      " \n"
     ]
    }
   ],
   "source": [
    "html = '''\n",
    "<div id=\"container\">\n",
    "    <ul class=\"list\">\n",
    "         <li class=\"item-0\">first item</li>\n",
    "         <li class=\"item-1\"><a href=\"link2.html\">second item</a></li>\n",
    "         <li class=\"item-0 active\"><a href=\"link3.html\"><span class=\"bold\">third item</span></a></li>\n",
    "         <li class=\"item-1 active\"><a href=\"link4.html\">fourth item</a></li>\n",
    "         <li class=\"item-0\"><a href=\"link5.html\">fifth item</a></li>\n",
    "     </ul>\n",
    " </div>\n",
    "'''\n",
    "from pyquery import PyQuery as pq\n",
    "doc = pq(html)\n",
    "print(doc('#container .list li'))\n",
    "# print(type(doc('#container .list li')))\n",
    "\n",
    "# from pyquery import PyQuery as pq\n",
    "# doc = pq(html)\n",
    "# items = doc('.list')\n",
    "# print(type(items))\n",
    "# print(items)\n",
    "# lis = items.find('li')\n",
    "# print(type(lis))\n",
    "# print(lis)"
   ]
  },
  {
   "cell_type": "code",
   "execution_count": null,
   "metadata": {},
   "outputs": [],
   "source": []
  },
  {
   "cell_type": "markdown",
   "metadata": {
    "toc-hr-collapsed": true
   },
   "source": [
    "### 查找节点"
   ]
  },
  {
   "cell_type": "markdown",
   "metadata": {},
   "source": [
    "#### 子节点"
   ]
  },
  {
   "cell_type": "code",
   "execution_count": 425,
   "metadata": {},
   "outputs": [
    {
     "name": "stdout",
     "output_type": "stream",
     "text": [
      "<li class=\"item-0 active\"><a href=\"link3.html\"><span class=\"bold\">third item</span></a></li>\n",
      "         <li class=\"item-1 active\"><a href=\"link4.html\">fourth item</a></li>\n",
      "         \n"
     ]
    }
   ],
   "source": [
    "html = '''\n",
    "<div id=\"container\">\n",
    "    <ul class=\"list\">\n",
    "         <li class=\"item-0\">first item</li>\n",
    "         <li class=\"item-1\"><a href=\"link2.html\">second item</a></li>\n",
    "         <li class=\"item-0 active\"><a href=\"link3.html\"><span class=\"bold\">third item</span></a></li>\n",
    "         <li class=\"item-1 active\"><a href=\"link4.html\">fourth item</a></li>\n",
    "         <li class=\"item-0\"><a href=\"link5.html\">fifth item</a></li>\n",
    "     </ul>\n",
    " </div>\n",
    "'''\n",
    "\n",
    "from pyquery import PyQuery as pq\n",
    "doc = pq(html)\n",
    "items = doc('.list')\n",
    "# print(type(items))\n",
    "# print(items)\n",
    "\n",
    "lis = items.children('.active')\n",
    "print(lis)\n",
    "\n",
    "# lis = items.find('li')\n",
    "# print(type(lis))\n",
    "# print(lis)"
   ]
  },
  {
   "cell_type": "markdown",
   "metadata": {},
   "source": [
    "#### 父节点"
   ]
  },
  {
   "cell_type": "code",
   "execution_count": 446,
   "metadata": {},
   "outputs": [
    {
     "name": "stdout",
     "output_type": "stream",
     "text": [
      "<li class=\"item-0\">first item</li>\n",
      "             <li class=\"item-1\"><a href=\"link2.html\">second item</a></li>\n",
      "             <li class=\"item-0 active\"><a href=\"link3.html\"><span class=\"bold\">third item</span></a></li>\n",
      "             <li class=\"item-1 active\"><a href=\"link4.html\">fourth item</a></li>\n",
      "             <li class=\"item-0\"><a href=\"link5.html\">fifth item</a></li>\n",
      "         \n",
      "<class 'generator'>\n",
      "<li class=\"item-0\">first item</li>\n",
      "              <class 'pyquery.pyquery.PyQuery'>\n",
      "<li class=\"item-1\"><a href=\"link2.html\">second item</a></li>\n",
      "              <class 'pyquery.pyquery.PyQuery'>\n",
      "<li class=\"item-0 active\"><a href=\"link3.html\"><span class=\"bold\">third item</span></a></li>\n",
      "              <class 'pyquery.pyquery.PyQuery'>\n",
      "<li class=\"item-1 active\"><a href=\"link4.html\">fourth item</a></li>\n",
      "              <class 'pyquery.pyquery.PyQuery'>\n",
      "<li class=\"item-0\"><a href=\"link5.html\">fifth item</a></li>\n",
      "          <class 'pyquery.pyquery.PyQuery'>\n"
     ]
    }
   ],
   "source": [
    "html = '''\n",
    "<div class=\"wrap\">\n",
    "    <div id=\"container\">\n",
    "        <ul class=\"list\">\n",
    "             <li class=\"item-0\">first item</li>\n",
    "             <li class=\"item-1\"><a href=\"link2.html\">second item</a></li>\n",
    "             <li class=\"item-0 active\"><a href=\"link3.html\"><span class=\"bold\">third item</span></a></li>\n",
    "             <li class=\"item-1 active\"><a href=\"link4.html\">fourth item</a></li>\n",
    "             <li class=\"item-0\"><a href=\"link5.html\">fifth item</a></li>\n",
    "         </ul>\n",
    "     </div>\n",
    " </div>\n",
    "'''\n",
    "# from pyquery import PyQuery as pq\n",
    "# doc = pq(html)\n",
    "# items = doc('.list')\n",
    "# container = items.parent()\n",
    "# print(type(container))\n",
    "# print(container)\n",
    "\n",
    "\n",
    "# from pyquery import PyQuery as pq\n",
    "# doc = pq(html)\n",
    "# items = doc('.list')\n",
    "# parents = items.parents()\n",
    "# print(type(parents))\n",
    "# print(parents)\n",
    "\n",
    "\n",
    "# from pyquery import PyQuery as pq\n",
    "# doc = pq(html)\n",
    "# li = doc('.list .item-0.active')\n",
    "# print(li.siblings())\n",
    "\n",
    "# from pyquery import PyQuery as pq\n",
    "# doc = pq(html)\n",
    "# li = doc('.list .item-0.active')\n",
    "# print(li.siblings('.active'))\n",
    "\n",
    "\n",
    "# from pyquery import PyQuery as pq\n",
    "# doc = pq(html)\n",
    "# li = doc('.item-0.active')\n",
    "# print(li)\n",
    "# print(str(li))\n",
    "\n",
    "from pyquery import PyQuery as pq\n",
    "doc = pq(html)\n",
    "lis = doc('li').items()\n",
    "print(type(lis))\n",
    "for li in lis:\n",
    "    print(li, type(li))"
   ]
  },
  {
   "cell_type": "code",
   "execution_count": null,
   "metadata": {},
   "outputs": [],
   "source": []
  },
  {
   "cell_type": "markdown",
   "metadata": {},
   "source": [
    "### 获取信息"
   ]
  },
  {
   "cell_type": "markdown",
   "metadata": {},
   "source": [
    "#### 获取属性"
   ]
  },
  {
   "cell_type": "code",
   "execution_count": 459,
   "metadata": {
    "slideshow": {
     "slide_type": "-"
    }
   },
   "outputs": [
    {
     "name": "stdout",
     "output_type": "stream",
     "text": [
      "<a href=\"link3.html\"><span class=\"bold\">third item</span></a> <class 'pyquery.pyquery.PyQuery'>\n",
      "link3.html\n",
      "link2.html\n",
      "link3.html\n",
      "link4.html\n",
      "link5.html\n"
     ]
    }
   ],
   "source": [
    "html = '''\n",
    "<div class=\"wrap\">\n",
    "    <div id=\"container\">\n",
    "        <ul class=\"list\">\n",
    "             <li class=\"item-0\">first item</li>\n",
    "             <li class=\"item-1\"><a href=\"link2.html\">second item</a></li>\n",
    "             <li class=\"item-0 active\"><a href=\"link3.html\"><span class=\"bold\">third item</span></a></li>\n",
    "             <li class=\"item-1 active\"><a href=\"link4.html\">fourth item</a></li>\n",
    "             <li class=\"item-0\"><a href=\"link5.html\">fifth item</a></li>\n",
    "         </ul>\n",
    "     </div>\n",
    " </div>\n",
    "'''\n",
    "\n",
    "from pyquery import PyQuery as pq\n",
    "doc = pq(html)\n",
    "a = doc('.item-0.active  a')\n",
    "print(a, type(a))\n",
    "print(a.attr('href'))\n",
    "\n",
    "a = doc('a')\n",
    "for i in a.items():\n",
    "    print(i.attr('href'))\n"
   ]
  },
  {
   "cell_type": "code",
   "execution_count": null,
   "metadata": {},
   "outputs": [],
   "source": []
  },
  {
   "cell_type": "markdown",
   "metadata": {},
   "source": [
    "#### 获取文本\n"
   ]
  },
  {
   "cell_type": "code",
   "execution_count": 479,
   "metadata": {},
   "outputs": [
    {
     "name": "stdout",
     "output_type": "stream",
     "text": [
      "<a href=\"link3.html\"><span class=\"bold\">third item</span></a>\n",
      "third item\n"
     ]
    }
   ],
   "source": [
    "html = '''\n",
    "<div class=\"wrap\">\n",
    "    <div id=\"container\">\n",
    "        <ul class=\"list\">\n",
    "             <li class=\"item-0\">first item</li>\n",
    "             <li class=\"item-1\"><a href=\"link2.html\">second item</a></li>\n",
    "             <li class=\"item-0 active\"><a href=\"link3.html\"><span class=\"bold\">third item</span></a></li>\n",
    "             <li class=\"item-1 active\"><a href=\"link4.html\">fourth item</a></li>\n",
    "             <li class=\"item-0\"><a href=\"link5.html\">fifth item</a></li>\n",
    "         </ul>\n",
    "     </div>\n",
    " </div>\n",
    "'''\n",
    "from pyquery import PyQuery as pq\n",
    "doc = pq(html)\n",
    "a = doc('.item-0.active a')\n",
    "print(a)\n",
    "print(a.text())"
   ]
  },
  {
   "cell_type": "code",
   "execution_count": 481,
   "metadata": {},
   "outputs": [
    {
     "name": "stdout",
     "output_type": "stream",
     "text": [
      "<a href=\"link2.html\">second item</a>\n",
      "second item third item fourth item fifth item\n",
      "<class 'str'>\n"
     ]
    }
   ],
   "source": [
    "html = '''\n",
    "<div class=\"wrap\">\n",
    "    <div id=\"container\">\n",
    "        <ul class=\"list\">\n",
    "             <li class=\"item-1\"><a href=\"link2.html\">second item</a></li>\n",
    "             <li class=\"item-0 active\"><a href=\"link3.html\"><span class=\"bold\">third item</span></a></li>\n",
    "             <li class=\"item-1 active\"><a href=\"link4.html\">fourth item</a></li>\n",
    "             <li class=\"item-0\"><a href=\"link5.html\">fifth item</a></li>\n",
    "         </ul>\n",
    "     </div>\n",
    " </div>\n",
    "'''\n",
    "from pyquery import PyQuery as pq\n",
    "doc = pq(html)\n",
    "li = doc('li')\n",
    "print(li.html())\n",
    "print(li.text())\n",
    "print(type(li.text()))"
   ]
  },
  {
   "cell_type": "code",
   "execution_count": null,
   "metadata": {},
   "outputs": [],
   "source": []
  },
  {
   "cell_type": "markdown",
   "metadata": {},
   "source": [
    "#### 节点操作"
   ]
  },
  {
   "cell_type": "markdown",
   "metadata": {},
   "source": [
    "##### addClass和removeClass"
   ]
  },
  {
   "cell_type": "code",
   "execution_count": 490,
   "metadata": {},
   "outputs": [
    {
     "name": "stdout",
     "output_type": "stream",
     "text": [
      "<li class=\"item-0 active\"><a href=\"link3.html\"><span class=\"bold\">third item</span></a></li>\n",
      "             \n",
      "<li class=\"item-0\"><a href=\"link3.html\"><span class=\"bold\">third item</span></a></li>\n",
      "             \n",
      "<li class=\"item-0 active\"><a href=\"link3.html\"><span class=\"bold\">third item</span></a></li>\n",
      "             \n"
     ]
    }
   ],
   "source": [
    "html = '''\n",
    "<div class=\"wrap\">\n",
    "    <div id=\"container\">\n",
    "        <ul class=\"list\">\n",
    "             <li class=\"item-0\">first item</li>\n",
    "             <li class=\"item-1\"><a href=\"link2.html\">second item</a></li>\n",
    "             <li class=\"item-0 active\"><a href=\"link3.html\"><span class=\"bold\">third item</span></a></li>\n",
    "             <li class=\"item-1 active\"><a href=\"link4.html\">fourth item</a></li>\n",
    "             <li class=\"item-0\"><a href=\"link5.html\">fifth item</a></li>\n",
    "         </ul>\n",
    "     </div>\n",
    " </div>\n",
    "'''\n",
    "\n",
    "from pyquery import PyQuery\n",
    "doc = pq(html)\n",
    "li = doc('.item-0.active')\n",
    "print(li)\n",
    "li.removeClass('active')\n",
    "print(li)\n",
    "li.addClass('active')\n",
    "print(li)"
   ]
  },
  {
   "cell_type": "markdown",
   "metadata": {},
   "source": [
    "##### attr text和html"
   ]
  },
  {
   "cell_type": "code",
   "execution_count": 501,
   "metadata": {},
   "outputs": [
    {
     "name": "stdout",
     "output_type": "stream",
     "text": [
      "<li class=\"item-0 active\"><a href=\"link3.html\"><span class=\"bold\">third item</span></a></li>\n",
      "\n",
      "<li class=\"item-0 active\" name=\"link\"><a href=\"link3.html\"><span class=\"bold\">third item</span></a></li>\n",
      "\n",
      "<li class=\"item-0 active\" name=\"link\">change item</li>\n",
      "\n",
      "<li class=\"item-0 active\" name=\"link\"><span>changed item</span></li>\n"
     ]
    }
   ],
   "source": [
    "html = '''\n",
    "<ul class=\"list\">\n",
    "     <li class=\"item-0 active\"><a href=\"link3.html\"><span class=\"bold\">third item</span></a></li>\n",
    "</ul>\n",
    "'''\n",
    "\n",
    "from pyquery import PyQuery\n",
    "doc = pq(html)\n",
    "li = doc('.item-0.active')\n",
    "print(li)\n",
    "li.attr('name','link')\n",
    "print(li)\n",
    "li.text('change item')\n",
    "print(li)\n",
    "li.html('<span>changed item</span>')\n",
    "print(li)\n"
   ]
  },
  {
   "cell_type": "code",
   "execution_count": null,
   "metadata": {},
   "outputs": [],
   "source": []
  },
  {
   "cell_type": "markdown",
   "metadata": {},
   "source": [
    "#### remove()"
   ]
  },
  {
   "cell_type": "code",
   "execution_count": 512,
   "metadata": {},
   "outputs": [
    {
     "name": "stdout",
     "output_type": "stream",
     "text": [
      "Hello, World\n",
      "This is a paragraph.\n",
      "Hello, World\n"
     ]
    }
   ],
   "source": [
    "html = '''\n",
    "<div class=\"wrap\">\n",
    "    Hello, World\n",
    "    <p>This is a paragraph.</p>\n",
    " </div>\n",
    "'''\n",
    "\n",
    "from pyquery import PyQuery as pq\n",
    "doc = pq(html)\n",
    "wrap = doc('.wrap')\n",
    "print(wrap.text())\n",
    "\n",
    "wrap.find('p').remove()\n",
    "print(wrap.text())"
   ]
  },
  {
   "cell_type": "code",
   "execution_count": null,
   "metadata": {},
   "outputs": [],
   "source": []
  },
  {
   "cell_type": "markdown",
   "metadata": {},
   "source": [
    "#### 伪类选择器"
   ]
  },
  {
   "cell_type": "code",
   "execution_count": 527,
   "metadata": {},
   "outputs": [
    {
     "name": "stdout",
     "output_type": "stream",
     "text": [
      "<li class=\"item-0\">first item</li>\n",
      "             \n",
      "<li class=\"item-0\"><a href=\"link5.html\">fifth item</a></li>\n",
      "         \n",
      "<li class=\"item-1\"><a href=\"link2.html\">second item</a></li>\n",
      "             \n",
      "<li class=\"item-1 active\"><a href=\"link4.html\">fourth item</a></li>\n",
      "             <li class=\"item-0\"><a href=\"link5.html\">fifth item</a></li>\n",
      "         \n",
      "<li class=\"item-1\"><a href=\"link2.html\">second item</a></li>\n",
      "             <li class=\"item-1 active\"><a href=\"link4.html\">fourth item</a></li>\n",
      "             \n",
      "<li class=\"item-0\">first item</li>\n",
      "             <li class=\"item-1\"><a href=\"link2.html\">second item</a></li>\n",
      "             \n"
     ]
    }
   ],
   "source": [
    "html = '''\n",
    "<div class=\"wrap\">\n",
    "    <div id=\"container\">\n",
    "        <ul class=\"list\">\n",
    "             <li class=\"item-0\">first item</li>\n",
    "             <li class=\"item-1\"><a href=\"link2.html\">second item</a></li>\n",
    "             <li class=\"item-0 active\"><a href=\"link3.html\"><span class=\"bold\">third item</span></a></li>\n",
    "             <li class=\"item-1 active\"><a href=\"link4.html\">fourth item</a></li>\n",
    "             <li class=\"item-0\"><a href=\"link5.html\">fifth item</a></li>\n",
    "         </ul>\n",
    "     </div>\n",
    " </div>\n",
    "'''\n",
    "\n",
    "from pyquery import PyQuery as pq\n",
    "doc = pq(html)\n",
    "\n",
    "li = doc('li:first-child')\n",
    "print(li)\n",
    "\n",
    "li = doc('li:last-child')\n",
    "print(li)\n",
    "\n",
    "li = doc('li:nth-child(2)')\n",
    "print(li)\n",
    "\n",
    "li = doc('li:gt(2)')\n",
    "print(li)\n",
    "\n",
    "li = doc('li:nth-child(2n)')\n",
    "print(li)\n",
    "\n",
    "li = doc('li:contains(second)')\n",
    "print(li)"
   ]
  },
  {
   "cell_type": "code",
   "execution_count": null,
   "metadata": {},
   "outputs": [],
   "source": []
  }
 ],
 "metadata": {
  "kernelspec": {
   "display_name": "Python 3",
   "language": "python",
   "name": "python3"
  },
  "language_info": {
   "codemirror_mode": {
    "name": "ipython",
    "version": 3
   },
   "file_extension": ".py",
   "mimetype": "text/x-python",
   "name": "python",
   "nbconvert_exporter": "python",
   "pygments_lexer": "ipython3",
   "version": "3.7.3"
  },
  "toc-autonumbering": false,
  "toc-showcode": false,
  "toc-showmarkdowntxt": false,
  "toc-showtags": false
 },
 "nbformat": 4,
 "nbformat_minor": 2
}
