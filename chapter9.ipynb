{
 "cells": [
  {
   "cell_type": "markdown",
   "metadata": {},
   "source": [
    "# 代理"
   ]
  },
  {
   "cell_type": "markdown",
   "metadata": {},
   "source": [
    "## urllib"
   ]
  },
  {
   "cell_type": "code",
   "execution_count": 1,
   "metadata": {},
   "outputs": [],
   "source": [
    "from urllib.error import URLError\n",
    "from urllib.request import ProxyHandler, build_opener"
   ]
  },
  {
   "cell_type": "code",
   "execution_count": 35,
   "metadata": {},
   "outputs": [],
   "source": [
    "proxy = '58.218.200.237:4035'\n",
    "url = 'http://www.baidu.com'"
   ]
  },
  {
   "cell_type": "code",
   "execution_count": 36,
   "metadata": {},
   "outputs": [
    {
     "name": "stdout",
     "output_type": "stream",
     "text": [
      "Error (104, 'Connection reset by peer')\n"
     ]
    }
   ],
   "source": [
    "proxy_handler = ProxyHandler({\n",
    "    'http' : 'http://' + proxy,\n",
    "    'https' : 'https://' + proxy\n",
    "})\n",
    "\n",
    "opener = build_opener(proxy_handler)\n",
    "try:\n",
    "    response = opener.open(url)\n",
    "    print(response.read().decode('utf-8'))\n",
    "except URLError as e:\n",
    "    print(e.reason)\n",
    "except BaseException as r:\n",
    "    print('Error', r.args)\n",
    "        "
   ]
  },
  {
   "cell_type": "markdown",
   "metadata": {},
   "source": [
    "## requests"
   ]
  },
  {
   "cell_type": "code",
   "execution_count": 37,
   "metadata": {},
   "outputs": [
    {
     "name": "stdout",
     "output_type": "stream",
     "text": [
      "Error (MaxRetryError(\"HTTPConnectionPool(host='58.218.200.237', port=4035): Max retries exceeded with url: http://www.baidu.com/ (Caused by ProxyError('Cannot connect to proxy.', ConnectionResetError(104, 'Connection reset by peer')))\"),)\n"
     ]
    }
   ],
   "source": [
    "import requests\n",
    "proxies = {\n",
    "    'http' : 'http://' + proxy,\n",
    "    'https' : 'https://' + proxy\n",
    "}\n",
    "try:\n",
    "    response = requests.get(url, proxies = proxies)\n",
    "    print(response.text)\n",
    "except requests.exceptions.ConnectionError as r:\n",
    "    print('Error', r.args)\n",
    "except BaseException as r:\n",
    "    print('Error', r.args)\n",
    "\n"
   ]
  },
  {
   "cell_type": "code",
   "execution_count": null,
   "metadata": {},
   "outputs": [],
   "source": []
  }
 ],
 "metadata": {
  "kernelspec": {
   "display_name": "Python 3",
   "language": "python",
   "name": "python3"
  },
  "language_info": {
   "codemirror_mode": {
    "name": "ipython",
    "version": 3
   },
   "file_extension": ".py",
   "mimetype": "text/x-python",
   "name": "python",
   "nbconvert_exporter": "python",
   "pygments_lexer": "ipython3",
   "version": "3.7.3"
  }
 },
 "nbformat": 4,
 "nbformat_minor": 2
}
